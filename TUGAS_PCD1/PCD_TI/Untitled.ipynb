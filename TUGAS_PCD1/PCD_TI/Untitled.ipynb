{
 "cells": [
  {
   "cell_type": "code",
   "execution_count": null,
   "id": "bf1b3566-00ba-4d90-a247-2c577ad4379b",
   "metadata": {},
   "outputs": [],
   "source": [
    "array([[],[],[]])"
   ]
  },
  {
   "cell_type": "raw",
   "id": "f23965b0-d97c-45c0-ae33-1ecc3e4902d3",
   "metadata": {},
   "source": []
  },
  {
   "cell_type": "code",
   "execution_count": null,
   "id": "7c4c1517-752b-48f2-a2db-309257238e0f",
   "metadata": {},
   "outputs": [],
   "source": []
  }
 ],
 "metadata": {
  "kernelspec": {
   "display_name": "Python 3 (ipykernel)",
   "language": "python",
   "name": "python3"
  },
  "language_info": {
   "codemirror_mode": {
    "name": "ipython",
    "version": 3
   },
   "file_extension": ".py",
   "mimetype": "text/x-python",
   "name": "python",
   "nbconvert_exporter": "python",
   "pygments_lexer": "ipython3",
   "version": "3.13.2"
  }
 },
 "nbformat": 4,
 "nbformat_minor": 5
}
