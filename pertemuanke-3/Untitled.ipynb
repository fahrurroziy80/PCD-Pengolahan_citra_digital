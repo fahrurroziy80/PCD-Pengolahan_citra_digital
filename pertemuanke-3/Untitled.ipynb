{
 "cells": [
  {
   "cell_type": "code",
   "execution_count": 1,
   "id": "fcdafe86-2078-4977-9f6f-568fef116d8e",
   "metadata": {},
   "outputs": [
    {
     "ename": "NameError",
     "evalue": "name 'np' is not defined",
     "output_type": "error",
     "traceback": [
      "\u001b[31m---------------------------------------------------------------------------\u001b[39m",
      "\u001b[31mNameError\u001b[39m                                 Traceback (most recent call last)",
      "\u001b[36mCell\u001b[39m\u001b[36m \u001b[39m\u001b[32mIn[1]\u001b[39m\u001b[32m, line 2\u001b[39m\n\u001b[32m      1\u001b[39m list2D = [[\u001b[32m10\u001b[39m,\u001b[32m20\u001b[39m,\u001b[32m30\u001b[39m, \u001b[32m90\u001b[39m,\u001b[32m100\u001b[39m],[\u001b[32m40\u001b[39m,\u001b[32m20\u001b[39m,\u001b[32m30\u001b[39m, \u001b[32m100\u001b[39m,\u001b[32m99\u001b[39m],[\u001b[32m70\u001b[39m,\u001b[32m90\u001b[39m,\u001b[32m100\u001b[39m, \u001b[32m120\u001b[39m,\u001b[32m80\u001b[39m],[\u001b[32m0\u001b[39m,\u001b[32m10\u001b[39m,\u001b[32m20\u001b[39m,\u001b[32m30\u001b[39m,\u001b[32m77\u001b[39m],[\u001b[32m10\u001b[39m,\u001b[32m20\u001b[39m,\u001b[32m30\u001b[39m, \u001b[32m90\u001b[39m,\u001b[32m11\u001b[39m]]\n\u001b[32m----> \u001b[39m\u001b[32m2\u001b[39m x = \u001b[43mnp\u001b[49m.array(list2D, np.int32)\n\u001b[32m      3\u001b[39m \u001b[38;5;28mprint\u001b[39m(x)\n",
      "\u001b[31mNameError\u001b[39m: name 'np' is not defined"
     ]
    }
   ],
   "source": [
    "\n",
    "\n",
    "\n",
    "list2D = [[10,20,30, 90,100],[40,20,30, 100,99],[70,90,100, 120,80],[0,10,20,30,77],[10,20,30, 90,11]]\n",
    "x = np.array(list2D, np.int32)\n",
    "print(x)"
   ]
  },
  {
   "cell_type": "code",
   "execution_count": null,
   "id": "9bc3679e-3865-46a1-884f-d10844a5215b",
   "metadata": {},
   "outputs": [],
   "source": []
  },
  {
   "cell_type": "code",
   "execution_count": null,
   "id": "f9f6d17b-24e2-449e-b9b1-3e6c275f7887",
   "metadata": {},
   "outputs": [],
   "source": []
  }
 ],
 "metadata": {
  "kernelspec": {
   "display_name": "Python 3 (ipykernel)",
   "language": "python",
   "name": "python3"
  },
  "language_info": {
   "codemirror_mode": {
    "name": "ipython",
    "version": 3
   },
   "file_extension": ".py",
   "mimetype": "text/x-python",
   "name": "python",
   "nbconvert_exporter": "python",
   "pygments_lexer": "ipython3",
   "version": "3.13.2"
  }
 },
 "nbformat": 4,
 "nbformat_minor": 5
}
